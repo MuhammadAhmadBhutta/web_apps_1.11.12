{
 "cells": [
  {
   "cell_type": "markdown",
   "id": "f5a72e87",
   "metadata": {},
   "source": [
    "# Training a model"
   ]
  },
  {
   "cell_type": "markdown",
   "id": "78fabc4e",
   "metadata": {},
   "source": [
    "### We training a model for customer segments"
   ]
  },
  {
   "cell_type": "code",
   "execution_count": null,
   "id": "41ce3493",
   "metadata": {},
   "outputs": [],
   "source": [
    "import pandas as pd\n",
    "from sklearn.preprocessing import StandardScaler\n",
    "from sklearn.cluster import KMeans\n",
    "from sklearn.metrics import silhouette_score\n",
    "import matplotlib.pyplot as plt\n",
    "import joblib  \n"
   ]
  },
  {
   "cell_type": "code",
   "execution_count": 2,
   "id": "b14ab46b",
   "metadata": {},
   "outputs": [
    {
     "data": {
      "application/vnd.microsoft.datawrangler.viewer.v0+json": {
       "columns": [
        {
         "name": "index",
         "rawType": "int64",
         "type": "integer"
        },
        {
         "name": "A`",
         "rawType": "int64",
         "type": "integer"
        },
        {
         "name": "Order ID",
         "rawType": "object",
         "type": "string"
        },
        {
         "name": "Order Date",
         "rawType": "datetime64[ns]",
         "type": "datetime"
        },
        {
         "name": "Ship Date",
         "rawType": "datetime64[ns]",
         "type": "datetime"
        },
        {
         "name": "Ship Mode",
         "rawType": "object",
         "type": "string"
        },
        {
         "name": "Customer ID",
         "rawType": "object",
         "type": "string"
        },
        {
         "name": "Customer Name",
         "rawType": "object",
         "type": "string"
        },
        {
         "name": "Segment",
         "rawType": "object",
         "type": "string"
        },
        {
         "name": "Country/Region",
         "rawType": "object",
         "type": "string"
        },
        {
         "name": "City",
         "rawType": "object",
         "type": "string"
        },
        {
         "name": "State",
         "rawType": "object",
         "type": "string"
        },
        {
         "name": "Postal Code",
         "rawType": "float64",
         "type": "float"
        },
        {
         "name": "Region",
         "rawType": "object",
         "type": "string"
        },
        {
         "name": "Product ID",
         "rawType": "object",
         "type": "string"
        },
        {
         "name": "Category",
         "rawType": "object",
         "type": "string"
        },
        {
         "name": "Sub-Category",
         "rawType": "object",
         "type": "string"
        },
        {
         "name": "Product Name",
         "rawType": "object",
         "type": "string"
        },
        {
         "name": "Sales",
         "rawType": "float64",
         "type": "float"
        },
        {
         "name": "Quantity",
         "rawType": "int64",
         "type": "integer"
        },
        {
         "name": "Discount",
         "rawType": "float64",
         "type": "float"
        },
        {
         "name": "Profit",
         "rawType": "float64",
         "type": "float"
        }
       ],
       "ref": "ed6d1896-a034-4ef1-b442-bd871631e332",
       "rows": [
        [
         "0",
         "4962",
         "CA-2016-156587",
         "2016-03-07 00:00:00",
         "2016-03-08 00:00:00",
         "First Class",
         "AB-10015",
         "Aaron Bergman",
         "Consumer",
         "United States",
         "Seattle",
         "Washington",
         "98103.0",
         "West",
         "FUR-CH-10004477",
         "Furniture",
         "Chairs",
         "Global Push Button Manager's Chair, Indigo",
         "48.712",
         "1",
         "0.2",
         "5.480099999999997"
        ],
        [
         "1",
         "4963",
         "CA-2016-156587",
         "2016-03-07 00:00:00",
         "2016-03-08 00:00:00",
         "First Class",
         "AB-10015",
         "Aaron Bergman",
         "Consumer",
         "United States",
         "Seattle",
         "Washington",
         "98103.0",
         "West",
         "OFF-AR-10001427",
         "Office Supplies",
         "Art",
         "Newell 330",
         "17.94",
         "3",
         "0.0",
         "4.6644000000000005"
        ],
        [
         "2",
         "4964",
         "CA-2016-156587",
         "2016-03-07 00:00:00",
         "2016-03-08 00:00:00",
         "First Class",
         "AB-10015",
         "Aaron Bergman",
         "Consumer",
         "United States",
         "Seattle",
         "Washington",
         "98103.0",
         "West",
         "OFF-ST-10002344",
         "Office Supplies",
         "Storage",
         "Carina 42\"Hx23 3/4\"W Media Storage Unit",
         "242.94",
         "3",
         "0.0",
         "4.858800000000016"
        ],
        [
         "3",
         "8223",
         "CA-2016-152905",
         "2016-02-18 00:00:00",
         "2016-02-24 00:00:00",
         "Standard Class",
         "AB-10015",
         "Aaron Bergman",
         "Consumer",
         "United States",
         "Arlington",
         "Texas",
         "76017.0",
         "Central",
         "OFF-ST-10000321",
         "Office Supplies",
         "Storage",
         "Akro Stacking Bins",
         "12.624",
         "2",
         "0.2",
         "-2.524800000000002"
        ],
        [
         "4",
         "8802",
         "CA-2018-140935",
         "2018-11-10 00:00:00",
         "2018-11-12 00:00:00",
         "First Class",
         "AB-10015",
         "Aaron Bergman",
         "Consumer",
         "United States",
         "Oklahoma City",
         "Oklahoma",
         "73120.0",
         "Central",
         "TEC-PH-10000562",
         "Technology",
         "Phones",
         "Samsung Convoy 3",
         "221.98",
         "2",
         "0.0",
         "62.15440000000001"
        ]
       ],
       "shape": {
        "columns": 21,
        "rows": 5
       }
      },
      "text/html": [
       "<div>\n",
       "<style scoped>\n",
       "    .dataframe tbody tr th:only-of-type {\n",
       "        vertical-align: middle;\n",
       "    }\n",
       "\n",
       "    .dataframe tbody tr th {\n",
       "        vertical-align: top;\n",
       "    }\n",
       "\n",
       "    .dataframe thead th {\n",
       "        text-align: right;\n",
       "    }\n",
       "</style>\n",
       "<table border=\"1\" class=\"dataframe\">\n",
       "  <thead>\n",
       "    <tr style=\"text-align: right;\">\n",
       "      <th></th>\n",
       "      <th>A`</th>\n",
       "      <th>Order ID</th>\n",
       "      <th>Order Date</th>\n",
       "      <th>Ship Date</th>\n",
       "      <th>Ship Mode</th>\n",
       "      <th>Customer ID</th>\n",
       "      <th>Customer Name</th>\n",
       "      <th>Segment</th>\n",
       "      <th>Country/Region</th>\n",
       "      <th>City</th>\n",
       "      <th>...</th>\n",
       "      <th>Postal Code</th>\n",
       "      <th>Region</th>\n",
       "      <th>Product ID</th>\n",
       "      <th>Category</th>\n",
       "      <th>Sub-Category</th>\n",
       "      <th>Product Name</th>\n",
       "      <th>Sales</th>\n",
       "      <th>Quantity</th>\n",
       "      <th>Discount</th>\n",
       "      <th>Profit</th>\n",
       "    </tr>\n",
       "  </thead>\n",
       "  <tbody>\n",
       "    <tr>\n",
       "      <th>0</th>\n",
       "      <td>4962</td>\n",
       "      <td>CA-2016-156587</td>\n",
       "      <td>2016-03-07</td>\n",
       "      <td>2016-03-08</td>\n",
       "      <td>First Class</td>\n",
       "      <td>AB-10015</td>\n",
       "      <td>Aaron Bergman</td>\n",
       "      <td>Consumer</td>\n",
       "      <td>United States</td>\n",
       "      <td>Seattle</td>\n",
       "      <td>...</td>\n",
       "      <td>98103.0</td>\n",
       "      <td>West</td>\n",
       "      <td>FUR-CH-10004477</td>\n",
       "      <td>Furniture</td>\n",
       "      <td>Chairs</td>\n",
       "      <td>Global Push Button Manager's Chair, Indigo</td>\n",
       "      <td>48.712</td>\n",
       "      <td>1</td>\n",
       "      <td>0.2</td>\n",
       "      <td>5.4801</td>\n",
       "    </tr>\n",
       "    <tr>\n",
       "      <th>1</th>\n",
       "      <td>4963</td>\n",
       "      <td>CA-2016-156587</td>\n",
       "      <td>2016-03-07</td>\n",
       "      <td>2016-03-08</td>\n",
       "      <td>First Class</td>\n",
       "      <td>AB-10015</td>\n",
       "      <td>Aaron Bergman</td>\n",
       "      <td>Consumer</td>\n",
       "      <td>United States</td>\n",
       "      <td>Seattle</td>\n",
       "      <td>...</td>\n",
       "      <td>98103.0</td>\n",
       "      <td>West</td>\n",
       "      <td>OFF-AR-10001427</td>\n",
       "      <td>Office Supplies</td>\n",
       "      <td>Art</td>\n",
       "      <td>Newell 330</td>\n",
       "      <td>17.940</td>\n",
       "      <td>3</td>\n",
       "      <td>0.0</td>\n",
       "      <td>4.6644</td>\n",
       "    </tr>\n",
       "    <tr>\n",
       "      <th>2</th>\n",
       "      <td>4964</td>\n",
       "      <td>CA-2016-156587</td>\n",
       "      <td>2016-03-07</td>\n",
       "      <td>2016-03-08</td>\n",
       "      <td>First Class</td>\n",
       "      <td>AB-10015</td>\n",
       "      <td>Aaron Bergman</td>\n",
       "      <td>Consumer</td>\n",
       "      <td>United States</td>\n",
       "      <td>Seattle</td>\n",
       "      <td>...</td>\n",
       "      <td>98103.0</td>\n",
       "      <td>West</td>\n",
       "      <td>OFF-ST-10002344</td>\n",
       "      <td>Office Supplies</td>\n",
       "      <td>Storage</td>\n",
       "      <td>Carina 42\"Hx23 3/4\"W Media Storage Unit</td>\n",
       "      <td>242.940</td>\n",
       "      <td>3</td>\n",
       "      <td>0.0</td>\n",
       "      <td>4.8588</td>\n",
       "    </tr>\n",
       "    <tr>\n",
       "      <th>3</th>\n",
       "      <td>8223</td>\n",
       "      <td>CA-2016-152905</td>\n",
       "      <td>2016-02-18</td>\n",
       "      <td>2016-02-24</td>\n",
       "      <td>Standard Class</td>\n",
       "      <td>AB-10015</td>\n",
       "      <td>Aaron Bergman</td>\n",
       "      <td>Consumer</td>\n",
       "      <td>United States</td>\n",
       "      <td>Arlington</td>\n",
       "      <td>...</td>\n",
       "      <td>76017.0</td>\n",
       "      <td>Central</td>\n",
       "      <td>OFF-ST-10000321</td>\n",
       "      <td>Office Supplies</td>\n",
       "      <td>Storage</td>\n",
       "      <td>Akro Stacking Bins</td>\n",
       "      <td>12.624</td>\n",
       "      <td>2</td>\n",
       "      <td>0.2</td>\n",
       "      <td>-2.5248</td>\n",
       "    </tr>\n",
       "    <tr>\n",
       "      <th>4</th>\n",
       "      <td>8802</td>\n",
       "      <td>CA-2018-140935</td>\n",
       "      <td>2018-11-10</td>\n",
       "      <td>2018-11-12</td>\n",
       "      <td>First Class</td>\n",
       "      <td>AB-10015</td>\n",
       "      <td>Aaron Bergman</td>\n",
       "      <td>Consumer</td>\n",
       "      <td>United States</td>\n",
       "      <td>Oklahoma City</td>\n",
       "      <td>...</td>\n",
       "      <td>73120.0</td>\n",
       "      <td>Central</td>\n",
       "      <td>TEC-PH-10000562</td>\n",
       "      <td>Technology</td>\n",
       "      <td>Phones</td>\n",
       "      <td>Samsung Convoy 3</td>\n",
       "      <td>221.980</td>\n",
       "      <td>2</td>\n",
       "      <td>0.0</td>\n",
       "      <td>62.1544</td>\n",
       "    </tr>\n",
       "  </tbody>\n",
       "</table>\n",
       "<p>5 rows × 21 columns</p>\n",
       "</div>"
      ],
      "text/plain": [
       "     A`        Order ID Order Date  Ship Date       Ship Mode Customer ID  \\\n",
       "0  4962  CA-2016-156587 2016-03-07 2016-03-08     First Class    AB-10015   \n",
       "1  4963  CA-2016-156587 2016-03-07 2016-03-08     First Class    AB-10015   \n",
       "2  4964  CA-2016-156587 2016-03-07 2016-03-08     First Class    AB-10015   \n",
       "3  8223  CA-2016-152905 2016-02-18 2016-02-24  Standard Class    AB-10015   \n",
       "4  8802  CA-2018-140935 2018-11-10 2018-11-12     First Class    AB-10015   \n",
       "\n",
       "   Customer Name   Segment Country/Region           City  ... Postal Code  \\\n",
       "0  Aaron Bergman  Consumer  United States        Seattle  ...     98103.0   \n",
       "1  Aaron Bergman  Consumer  United States        Seattle  ...     98103.0   \n",
       "2  Aaron Bergman  Consumer  United States        Seattle  ...     98103.0   \n",
       "3  Aaron Bergman  Consumer  United States      Arlington  ...     76017.0   \n",
       "4  Aaron Bergman  Consumer  United States  Oklahoma City  ...     73120.0   \n",
       "\n",
       "    Region       Product ID         Category Sub-Category  \\\n",
       "0     West  FUR-CH-10004477        Furniture       Chairs   \n",
       "1     West  OFF-AR-10001427  Office Supplies          Art   \n",
       "2     West  OFF-ST-10002344  Office Supplies      Storage   \n",
       "3  Central  OFF-ST-10000321  Office Supplies      Storage   \n",
       "4  Central  TEC-PH-10000562       Technology       Phones   \n",
       "\n",
       "                                 Product Name    Sales  Quantity  Discount  \\\n",
       "0  Global Push Button Manager's Chair, Indigo   48.712         1       0.2   \n",
       "1                                  Newell 330   17.940         3       0.0   \n",
       "2     Carina 42\"Hx23 3/4\"W Media Storage Unit  242.940         3       0.0   \n",
       "3                          Akro Stacking Bins   12.624         2       0.2   \n",
       "4                            Samsung Convoy 3  221.980         2       0.0   \n",
       "\n",
       "    Profit  \n",
       "0   5.4801  \n",
       "1   4.6644  \n",
       "2   4.8588  \n",
       "3  -2.5248  \n",
       "4  62.1544  \n",
       "\n",
       "[5 rows x 21 columns]"
      ]
     },
     "execution_count": 2,
     "metadata": {},
     "output_type": "execute_result"
    }
   ],
   "source": [
    "# ---------------------------------------------\n",
    "# 1️⃣ Load your Superstore Orders sheet\n",
    "# ---------------------------------------------\n",
    "df = pd.read_excel('/datasets/Sample_Superstore.xlsx', sheet_name='Orders')\n",
    "df.head()\n"
   ]
  },
  {
   "cell_type": "code",
   "execution_count": 3,
   "id": "651d7a3b",
   "metadata": {},
   "outputs": [],
   "source": [
    "# 2️⃣ Aggregate to Customer Level\n",
    "# ---------------------------------------------\n",
    "customer_df = df.groupby(['Customer ID', 'Customer Name']).agg({\n",
    "    'Sales': 'sum',\n",
    "    'Profit': 'sum',\n",
    "    'Quantity': 'sum',\n",
    "    'Discount': 'mean',\n",
    "    'Order ID': 'nunique',\n",
    "    'Category': 'nunique'\n",
    "}).reset_index()"
   ]
  },
  {
   "cell_type": "code",
   "execution_count": 4,
   "id": "d4fa8e8d",
   "metadata": {},
   "outputs": [],
   "source": [
    "customer_df = customer_df.rename(columns={\n",
    "    'Sales': 'Total_Sales',\n",
    "    'Profit': 'Total_Profit',\n",
    "    'Quantity': 'Total_Quantity',\n",
    "    'Discount': 'Avg_Discount',\n",
    "    'Order ID': 'Num_Orders',\n",
    "    'Category': 'Num_Categories'\n",
    "})"
   ]
  },
  {
   "cell_type": "code",
   "execution_count": null,
   "id": "12aed07b",
   "metadata": {},
   "outputs": [
    {
     "name": "stdout",
     "output_type": "stream",
     "text": [
      "✅ Aggregated Customer Data:\n",
      "  Customer ID  Customer Name  Total_Sales  Total_Profit  Total_Quantity  \\\n",
      "0    AA-10315     Alex Avila     5563.560     -362.8825              30   \n",
      "1    AA-10375   Allen Armold     1056.390      277.3824              41   \n",
      "2    AA-10480   Andrew Allen     1790.512      435.8274              36   \n",
      "3    AA-10645  Anna Andreadi     5086.935      857.8033              64   \n",
      "4    AB-10015  Aaron Bergman      886.156      129.3465              13   \n",
      "\n",
      "   Avg_Discount  Num_Orders  Num_Categories  \n",
      "0      0.090909           5               3  \n",
      "1      0.080000           9               3  \n",
      "2      0.016667           4               3  \n",
      "3      0.063889           6               3  \n",
      "4      0.066667           3               3  \n"
     ]
    }
   ],
   "source": [
    "print(\"✅ Aggregated Customer Data:\")\n",
    "print(customer_df.head())"
   ]
  },
  {
   "cell_type": "code",
   "execution_count": 6,
   "id": "711504fb",
   "metadata": {},
   "outputs": [],
   "source": [
    "# Save the customer-level dataset for your Flask upload test\n",
    "customer_df.to_csv('./datasets/customer_segments.csv', index=False)"
   ]
  },
  {
   "cell_type": "code",
   "execution_count": null,
   "id": "08e4358c",
   "metadata": {},
   "outputs": [],
   "source": [
    "# 3️⃣ Select features & scale\n",
    "# ---------------------------------------------\n",
    "features = ['Total_Sales', 'Total_Profit', 'Total_Quantity',\n",
    "            'Avg_Discount', 'Num_Orders', 'Num_Categories']"
   ]
  },
  {
   "cell_type": "code",
   "execution_count": 9,
   "id": "cb2e95fa",
   "metadata": {},
   "outputs": [],
   "source": [
    "X = customer_df[features]\n",
    "\n",
    "scaler = StandardScaler()\n",
    "X_scaled = scaler.fit_transform(X)"
   ]
  },
  {
   "cell_type": "code",
   "execution_count": 10,
   "id": "88682916",
   "metadata": {},
   "outputs": [
    {
     "name": "stdout",
     "output_type": "stream",
     "text": [
      "K=2 | Inertia: 3456.94 | Silhouette: 0.262\n",
      "K=3 | Inertia: 2807.06 | Silhouette: 0.266\n",
      "K=4 | Inertia: 2398.57 | Silhouette: 0.266\n",
      "K=5 | Inertia: 2195.47 | Silhouette: 0.228\n",
      "K=6 | Inertia: 1959.37 | Silhouette: 0.233\n",
      "K=7 | Inertia: 1808.39 | Silhouette: 0.241\n",
      "K=8 | Inertia: 1678.80 | Silhouette: 0.226\n",
      "K=9 | Inertia: 1490.62 | Silhouette: 0.250\n",
      "K=10 | Inertia: 1398.50 | Silhouette: 0.225\n"
     ]
    }
   ],
   "source": [
    "# 4️⃣ Hyperparameter Tuning (Elbow + Silhouette)\n",
    "# ---------------------------------------------\n",
    "inertia = []\n",
    "silhouette = []\n",
    "K_range = range(2, 11)\n",
    "\n",
    "for k in K_range:\n",
    "    kmeans = KMeans(n_clusters=k, random_state=42)\n",
    "    clusters = kmeans.fit_predict(X_scaled)\n",
    "    inertia.append(kmeans.inertia_)\n",
    "    sil_score = silhouette_score(X_scaled, clusters)\n",
    "    silhouette.append(sil_score)\n",
    "    print(f\"K={k} | Inertia: {kmeans.inertia_:.2f} | Silhouette: {sil_score:.3f}\")"
   ]
  },
  {
   "cell_type": "code",
   "execution_count": 11,
   "id": "7aa20a04",
   "metadata": {},
   "outputs": [
    {
     "data": {
      "image/png": "[encoded data removed]",
      "text/plain": [
       "<Figure size 800x400 with 1 Axes>"
      ]
     },
     "metadata": {},
     "output_type": "display_data"
    }
   ],
   "source": [
    "# Plot Elbow\n",
    "plt.figure(figsize=(8,4))\n",
    "plt.plot(K_range, inertia, marker='o')\n",
    "plt.title('Elbow Method - Inertia vs K')\n",
    "plt.xlabel('Number of Clusters (K)')\n",
    "plt.ylabel('Inertia')\n",
    "plt.xticks(K_range)\n",
    "plt.show()"
   ]
  },
  {
   "cell_type": "code",
   "execution_count": 12,
   "id": "ea89a278",
   "metadata": {},
   "outputs": [
    {
     "data": {
      "image/png": "[encoded data removed]",
      "text/plain": [
       "<Figure size 800x400 with 1 Axes>"
      ]
     },
     "metadata": {},
     "output_type": "display_data"
    }
   ],
   "source": [
    "# Plot Silhouette\n",
    "plt.figure(figsize=(8,4))\n",
    "plt.plot(K_range, silhouette, marker='o', color='green')\n",
    "plt.title('Silhouette Score vs K')\n",
    "plt.xlabel('Number of Clusters (K)')\n",
    "plt.ylabel('Silhouette Score')\n",
    "plt.xticks(K_range)\n",
    "plt.show()"
   ]
  },
  {
   "cell_type": "code",
   "execution_count": 15,
   "id": "d25d44a0",
   "metadata": {},
   "outputs": [],
   "source": [
    "# 5️⃣ Train final K-Means with chosen K\n",
    "# ---------------------------------------------\n",
    "# ⚡ Pick the best K you see from plots! Example: K=4\n",
    "final_k = 4  # <-- Replace with your chosen K\n",
    "kmeans = KMeans(n_clusters=final_k, random_state=42)\n",
    "clusters = kmeans.fit_predict(X_scaled)\n",
    "\n",
    "customer_df['Cluster'] = clusters"
   ]
  },
  {
   "cell_type": "code",
   "execution_count": 16,
   "id": "b370f07c",
   "metadata": {},
   "outputs": [],
   "source": [
    "# Save final results\n",
    "customer_df.to_csv('customer_segments_with_clusters.csv', index=False)"
   ]
  },
  {
   "cell_type": "code",
   "execution_count": 19,
   "id": "f9bf7586",
   "metadata": {},
   "outputs": [
    {
     "name": "stdout",
     "output_type": "stream",
     "text": [
      "\n",
      "✅ Final Clustering done!\n",
      "- Saved: kmeans_model.pkl, scaler.pkl, customer_segments_with_clusters.csv\n"
     ]
    }
   ],
   "source": [
    "# ---------------------------------------------\n",
    "# 6️⃣ Save Model & Scaler for Flask\n",
    "# ---------------------------------------------\n",
    "joblib.dump(kmeans, 'kmeans_model.pkl')\n",
    "joblib.dump(scaler, 'scaler.pkl')\n",
    "\n",
    "print(\"\\n✅ Final Clustering done!\")\n",
    "print(\"- Saved: kmeans_model.pkl, scaler.pkl, customer_segments_with_clusters.csv\")"
   ]
  }
 ],
 "metadata": {
  "kernelspec": {
   "display_name": "python_ml",
   "language": "python",
   "name": "python3"
  },
  "language_info": {
   "codemirror_mode": {
    "name": "ipython",
    "version": 3
   },
   "file_extension": ".py",
   "mimetype": "text/x-python",
   "name": "python",
   "nbconvert_exporter": "python",
   "pygments_lexer": "ipython3",
   "version": "3.10.16"
  }
 },
 "nbformat": 4,
 "nbformat_minor": 5
}
